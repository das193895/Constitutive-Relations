{
 "cells": [
  {
   "cell_type": "code",
   "execution_count": 1,
   "id": "e2f3884a",
   "metadata": {},
   "outputs": [],
   "source": [
    "import pandas as pd\n",
    "import torch\n",
    "from torch.autograd import grad\n",
    "import numpy as np\n",
    "## Import all the required libraries\n",
    "\n",
    "import numpy as np\n",
    "import pandas as pd\n",
    "import matplotlib.pyplot as plt\n",
    "%matplotlib inline\n",
    "import torch\n",
    "from torch import nn\n",
    "from torch.utils.data import random_split,DataLoader,Subset\n",
    "from torch.utils.data import Dataset, DataLoader\n",
    "import torch.optim as optim\n",
    "from torchvision import datasets\n",
    "from torchvision import transforms\n",
    "from torchvision.transforms import ToTensor,Normalize\n",
    "import warnings\n",
    "warnings.filterwarnings(\"ignore\")"
   ]
  },
  {
   "cell_type": "markdown",
   "id": "69872c17",
   "metadata": {},
   "source": [
    "## Calculating F"
   ]
  },
  {
   "cell_type": "code",
   "execution_count": 92,
   "id": "3b7312bd",
   "metadata": {},
   "outputs": [
    {
     "name": "stdout",
     "output_type": "stream",
     "text": [
      "x_coor: tensor([0.0000, 1.0000, 1.0000,  ..., 0.9794, 0.9593, 0.0407],\n",
      "       requires_grad=True)\n",
      "y_coor: tensor([0.0000, 0.0000, 1.0000,  ..., 0.6109, 0.4983, 0.7369],\n",
      "       requires_grad=True)\n",
      "u_x: tensor([8.1634e-19, 2.0000e-01, 2.0000e-01,  ..., 1.9589e-01, 1.9187e-01,\n",
      "        8.1319e-03], requires_grad=True)\n",
      "u_y: tensor([0.0000, 0.0000, 0.4000,  ..., 0.2444, 0.1993, 0.2948],\n",
      "       requires_grad=True)\n",
      "torch.Size([1438, 4])\n",
      "tensor([1., 0., 0., 1.])\n"
     ]
    }
   ],
   "source": [
    "# Read the CSV file\n",
    "df = pd.read_csv(\"coordinates_and_disp_40.csv\")\n",
    "\n",
    "# Extract relevant columns based on headings\n",
    "x_coor_col = \"x_coor\"\n",
    "y_coor_col = \"y_coor\"\n",
    "u_x_col = \"u_x\"\n",
    "u_y_col = \"u_y\"\n",
    "\n",
    "# Extract columns as tensors\n",
    "x_coor = torch.tensor(df[x_coor_col].values, dtype=torch.float32, requires_grad=True)\n",
    "y_coor = torch.tensor(df[y_coor_col].values, dtype=torch.float32, requires_grad=True)\n",
    "u_x = torch.tensor(df[u_x_col].values, dtype=torch.float32, requires_grad=True)\n",
    "u_y = torch.tensor(df[u_y_col].values, dtype=torch.float32, requires_grad=True)\n",
    "\n",
    " #Print out the input tensors\n",
    "print(\"x_coor:\", x_coor)\n",
    "print(\"y_coor:\", y_coor)\n",
    "print(\"u_x:\", u_x)\n",
    "print(\"u_y:\", u_y)\n",
    "\n",
    "# Define a function to compute the velocity based on the coordinates\n",
    "def velocity_function(coordinates):\n",
    "    x_coor, y_coor = coordinates.unbind(1)\n",
    "    u_x = torch.tensor(df[u_x_col].values, dtype=torch.float32)\n",
    "    u_y = torch.tensor(df[u_y_col].values, dtype=torch.float32)\n",
    "    return torch.stack((u_x, u_y), dim=1)\n",
    "\n",
    "# Define a function to compute the Jacobian using autograd\n",
    "def compute_jacobian(x_coor, y_coor):\n",
    "    # Concatenate the coordinates into a single tensor\n",
    "    coordinates = torch.stack((x_coor, y_coor), dim=1)    \n",
    "    # Compute the Jacobian using autograd\n",
    "    Jacobian = torch.autograd.functional.jacobian(velocity_function, coordinates)\n",
    "    return Jacobian\n",
    "\n",
    "# Compute the Jacobian\n",
    "Jacobian1 = compute_jacobian(x_coor, y_coor)\n",
    "# Reshape the Jacobian to have shape (number of data points, 4)\n",
    "Jacobian = Jacobian1.reshape(x_coor.shape[0], -1)\n",
    "# Select the appropriate columns to reshape into (1438, 4)\n",
    "Jacobian = Jacobian[:, :4]\n",
    "\n",
    "I = torch.eye(2,2)\n",
    "I_flattened = I.view(-1)\n",
    "\n",
    "print(I_flattened)\n",
    "\n",
    "# Add I to grad_u_X\n",
    "F = I_flattened + Jacobian\n",
    "F.shape\n"
   ]
  },
  {
   "cell_type": "markdown",
   "id": "82d208bc",
   "metadata": {},
   "source": [
    "## Calculating jacobian"
   ]
  },
  {
   "cell_type": "code",
   "execution_count": 33,
   "id": "d4dcd4cf",
   "metadata": {},
   "outputs": [],
   "source": [
    "# HELPER Functions for course project\n",
    "\n",
    "def computeJacobian(F):\n",
    "    \"\"\"\n",
    "    Compute Jacobian from deformation gradient.\n",
    "    \n",
    "    _Input Arguments_\n",
    "    \n",
    "    - `F` - deformation gradient in Voigt notation\n",
    "    \n",
    "    _Output Arguments_\n",
    "    \n",
    "    - `J` - Jacobian\n",
    "    \n",
    "    ---\n",
    "    \n",
    "    \"\"\"\n",
    "    F11 = F[:,0:1]\n",
    "    F12 = F[:,1:2]\n",
    "    F21 = F[:,2:3]\n",
    "    F22 = F[:,3:4]\n",
    "\n",
    "    J = F11*F22 - F12*F21\n",
    "    return J"
   ]
  },
  {
   "cell_type": "code",
   "execution_count": 94,
   "id": "4fb11cd9",
   "metadata": {},
   "outputs": [],
   "source": [
    "J = computeJacobian(F)"
   ]
  },
  {
   "cell_type": "code",
   "execution_count": 36,
   "id": "9ebea37a",
   "metadata": {},
   "outputs": [],
   "source": [
    "def computeCauchyGreenStrain(F):\n",
    "    \"\"\"\n",
    "    Compute right Cauchy-Green strain tensor from deformation gradient.\n",
    "    \n",
    "    _Input Arguments_\n",
    "    \n",
    "    - `F` - deformation gradient in Voigt notation\n",
    "    \n",
    "    _Output Arguments_\n",
    "    \n",
    "    - `C` - Cauchy-Green strain tensor in Voigt notation\n",
    "    \n",
    "    ---\n",
    "    \n",
    "    \"\"\"\n",
    "    F11 = F[:,0:1]\n",
    "    F12 = F[:,1:2]\n",
    "    F21 = F[:,2:3]\n",
    "    F22 = F[:,3:4]\n",
    "\n",
    "    C11 = F11**2 + F21**2\n",
    "    C12 = F11*F12 + F21*F22\n",
    "    C21 = F11*F12 + F21*F22\n",
    "    C22 = F12**2 + F22**2\n",
    "\n",
    "    C = torch.cat((C11,C12,C21,C22),dim=1)\n",
    "    return C\n",
    "\n",
    "\n",
    "def computeStrainInvariants(C):\n",
    "    \"\"\"\n",
    "    Compute invariants of the Cauchy-Green strain tensor.\n",
    "    Plane strain is assumed.\n",
    "    \n",
    "    _Input Arguments_\n",
    "    \n",
    "    - `C` - Cauchy-Green strain tensor in Voigt notation\n",
    "    \n",
    "    _Output Arguments_\n",
    "    \n",
    "    - `I1` - 1st invariant\n",
    "    \n",
    "    - `I2` - 2nd invariant\n",
    "\n",
    "    - `I3` - 3rd invariant\n",
    "\n",
    "    ---\n",
    "    \n",
    "    \"\"\"\n",
    "    C11 = C[:,0:1]\n",
    "    C12 = C[:,1:2]\n",
    "    C21 = C[:,2:3]\n",
    "    C22 = C[:,3:4]\n",
    "\n",
    "    I1 = C11 + C22 + 1.0\n",
    "    I2 = C11 + C22 - C12*C21 + C11*C22\n",
    "    I3 = C11*C22 - C12*C21\n",
    "    return I1, I2, I3\n",
    "\n",
    "\n",
    "\n",
    "def computeStrainInvariantDerivatives(F,i,secondDerivative=False):\n",
    "    \"\"\"\n",
    "    Compute derivatives of the invariants of the Cauchy-Green strain tensor with respect to the deformation gradient.\n",
    "    Plane strain is assumed.\n",
    "    \n",
    "    _Input Arguments_\n",
    "    \n",
    "    - `F` - deformation gradient in Voigt notation\n",
    "\n",
    "    - `i` - specify the invariant that should be differentiated \n",
    "\n",
    "    - `secondDerivative` - specify if second derivative should be computed \n",
    "    \n",
    "    _Output Arguments_\n",
    "    \n",
    "    - `dIdF` - derivative (note that the size of `dIdF` depends on the choice of `secondDerivative`)\n",
    "    \n",
    "    ---\n",
    "    \n",
    "    \"\"\"\n",
    "    F11 = F[:,0:1]\n",
    "    F12 = F[:,1:2]\n",
    "    F21 = F[:,2:3]\n",
    "    F22 = F[:,3:4]\n",
    "    if not(secondDerivative):\n",
    "        dIdF = torch.zeros(F.shape[0],F.shape[1])\n",
    "        if(i==1):\n",
    "            # dI1/dF:\n",
    "            dIdF = 2.0*F\n",
    "        elif(i==2):\n",
    "            # dI2/dF:\n",
    "            dIdF11 = 2.0*F11 - 2.0*F12*F21*F22 + 2.0*F11*(F22**2)\n",
    "            dIdF12 = 2.0*F12 + 2.0*F12*(F21**2) - 2.0*F11*F21*F22\n",
    "            dIdF21 = 2.0*F21 + 2.0*(F12**2)*F21 - 2.0*F11*F12*F22\n",
    "            dIdF22 = 2.0*F22 - 2.0*F11*F12*F21 + 2.0*(F11**2)*F22\n",
    "            dIdF = torch.cat((dIdF11,dIdF12,dIdF21,dIdF22),dim=1)\n",
    "        elif(i==3):\n",
    "            # dI3/dF:\n",
    "            J = F11*F22 - F12*F21\n",
    "            dIdF11 = 2.0*F22 * J\n",
    "            dIdF12 = -2.0*F21 * J\n",
    "            dIdF21 = -2.0*F12 * J\n",
    "            dIdF22 = 2.0*F11 * J\n",
    "            dIdF = torch.cat((dIdF11,dIdF12,dIdF21,dIdF22),dim=1)\n",
    "        else:\n",
    "            raise ValueError('Incorrect invariant index')\n",
    "    if secondDerivative:\n",
    "        dIdF = torch.zeros(F.shape[1],F.shape[1])\n",
    "        if(i==1):\n",
    "            # d(dI1/dF)/dF:\n",
    "            dIdF = 2.0*torch.eye(F.shape[1])\n",
    "        elif(i==3):\n",
    "            # d(dI3/dF)/dF:\n",
    "            J = F11*F22 - F12*F21\n",
    "            dJdF11 = F22\n",
    "            dJdF12 = - F21\n",
    "            dJdF21 = - F12\n",
    "            dJdF22 = F11\n",
    "            # d(dI3/dF)/dF11:\n",
    "            dIdF[0,0] = 2.0 * F22 * dJdF11\n",
    "            dIdF[0,1] = -2.0 * F21 * dJdF11\n",
    "            dIdF[0,2] = -2.0 * F12 * dJdF11\n",
    "            dIdF[0,3] = 2.0 * J + 2.0 * F11 * dJdF11\n",
    "            # d(dI3/dF)/dF12:\n",
    "            dIdF[1,0] = 2.0 * F22 * dJdF12\n",
    "            dIdF[1,1] = -2.0 * F21 * dJdF12\n",
    "            dIdF[1,2] = -2.0 * J -2.0 * F12 * dJdF12\n",
    "            dIdF[1,3] = 2.0 * F11 * dJdF12\n",
    "            # d(dI3/dF)/dF21:\n",
    "            dIdF[2,0] = 2.0 * F22 * dJdF21\n",
    "            dIdF[2,1] = -2.0 * J + -2.0 * F21 * dJdF21\n",
    "            dIdF[2,2] = -2.0 * F12 * dJdF21\n",
    "            dIdF[2,3] = 2.0 * F11 * dJdF21\n",
    "            # d(dI3/dF)/dF22:\n",
    "            dIdF[3,0] = 2.0 * J + 2.0 * F22 * dJdF22\n",
    "            dIdF[3,1] = -2.0 * F21 * dJdF22\n",
    "            dIdF[3,2] = -2.0 * F12 * dJdF22\n",
    "            dIdF[3,3] = 2.0 * F11 * dJdF22\n",
    "        else:\n",
    "            raise ValueError('Incorrect invariant index')\n",
    "    return dIdF  \n"
   ]
  },
  {
   "cell_type": "code",
   "execution_count": 85,
   "id": "88518054",
   "metadata": {},
   "outputs": [
    {
     "data": {
      "text/plain": [
       "torch.Size([1438, 4])"
      ]
     },
     "execution_count": 85,
     "metadata": {},
     "output_type": "execute_result"
    }
   ],
   "source": [
    "C = computeCauchyGreenStrain(F)\n",
    "C.shape"
   ]
  },
  {
   "cell_type": "code",
   "execution_count": 86,
   "id": "b8d342ae",
   "metadata": {},
   "outputs": [
    {
     "data": {
      "text/plain": [
       "torch.Size([1438, 1])"
      ]
     },
     "execution_count": 86,
     "metadata": {},
     "output_type": "execute_result"
    }
   ],
   "source": [
    "I1, I2, I3 = computeStrainInvariants(C)\n",
    "I1.shape"
   ]
  },
  {
   "cell_type": "markdown",
   "id": "7fa18190",
   "metadata": {},
   "source": [
    "## Calculating 43 parameters"
   ]
  },
  {
   "cell_type": "code",
   "execution_count": 62,
   "id": "209341d3",
   "metadata": {},
   "outputs": [],
   "source": [
    "def dictionary(I1, I2, I3, J):\n",
    "    I1_bar = J**(-2/3)*I1\n",
    "    I2_bar = J**(-4/3)*I2\n",
    "    \n",
    "    a = J-1\n",
    "    \n",
    "    a1 = I2_bar-3\n",
    "    a2 = I1_bar-3\n",
    "    a3 = a1*a1\n",
    "    a4 = a1*a2\n",
    "    a5 = a2*a2\n",
    "    a6 = a1*a1*a1\n",
    "    a7 = a2*a1*a1\n",
    "    a8 = a2*a2*a1\n",
    "    a9 = a2*a2*a2\n",
    "    a10 = a1*a1*a1*a1\n",
    "    a11 = a2*a1*a1*a1\n",
    "    a12 = a2*a2*a1*a1\n",
    "    a13 = a2*a2*a2*a1\n",
    "    a14 = a2*a2*a2*a2\n",
    "    a15 = a1*a1*a1*a1*a1\n",
    "    a16 = a2*a1*a1*a1*a1\n",
    "    a17 = a2*a2*a1*a1*a1\n",
    "    a18 = a2*a2*a2*a1*a1\n",
    "    a19 = a2*a2*a2*a2*a1\n",
    "    a20 = a2*a2*a2*a2*a2\n",
    "    a21 = a1*a1*a1*a1*a1*a1\n",
    "    a22 = a2*a1*a1*a1*a1*a1\n",
    "    a23 = a2*a2*a1*a1*a1*a1\n",
    "    a24 = a2*a2*a2*a1*a1*a1\n",
    "    a25 = a2*a2*a2*a2*a1*a1\n",
    "    a26 = a2*a2*a2*a2*a2*a1\n",
    "    a27 = a2*a2*a2*a2*a2*a2\n",
    "    a28 = a1*a1*a1*a1*a1*a1*a1\n",
    "    a29 = a2*a1*a1*a1*a1*a1*a1\n",
    "    a30 = a2*a2*a1*a1*a1*a1*a1\n",
    "    a31 = a2*a2*a2*a1*a1*a1*a1\n",
    "    a32 = a2*a2*a2*a2*a1*a1*a1\n",
    "    a33 = a2*a2*a2*a2*a2*a1*a1\n",
    "    a34 = a2*a2*a2*a2*a2*a2*a1\n",
    "    a35 = a2*a2*a2*a2*a2*a2*a2\n",
    "    a36 = a*a\n",
    "    a37 = a36*a36\n",
    "    a38 = a36*a36*a36\n",
    "    a39 = a37*a37\n",
    "    a40 = a39*a36\n",
    "    a41 = a40*a36\n",
    "    a42 = a41*a36\n",
    "    a43 = torch.log(I2_bar/3)\n",
    "    \n",
    "    Q = torch.stack((a1,a2,a3,a4,a5,a6,a7,a8,a9,a10,a11,a12,a13,a14,a15,a16,a17,a18,a19,a20,a21,a22,a23,a24,a25,a26,a27,a28,a29,a30,a31,a32,a33,a34,a35,a36,a37,a38,a39,a40,a41,a42,a43))\n",
    "    return Q\n",
    "    \n",
    "    "
   ]
  },
  {
   "cell_type": "code",
   "execution_count": 64,
   "id": "28d06047",
   "metadata": {},
   "outputs": [
    {
     "data": {
      "text/plain": [
       "torch.Size([43, 1438, 1])"
      ]
     },
     "execution_count": 64,
     "metadata": {},
     "output_type": "execute_result"
    }
   ],
   "source": [
    "Q = dictionary(I1, I2, I3, J)\n",
    "Q.shape"
   ]
  },
  {
   "cell_type": "markdown",
   "id": "35b887a6",
   "metadata": {},
   "source": [
    "## Calculating the strain Energy density tensor"
   ]
  },
  {
   "cell_type": "code",
   "execution_count": 65,
   "id": "9ef1166d",
   "metadata": {},
   "outputs": [
    {
     "name": "stderr",
     "output_type": "stream",
     "text": [
      "C:\\Users\\91797\\AppData\\Local\\Temp\\ipykernel_15672\\2592845160.py:8: UserWarning: The use of `x.T` on tensors of dimension other than 2 to reverse their shape is deprecated and it will throw an error in a future release. Consider `x.mT` to transpose batches of matrices or `x.permute(*torch.arange(x.ndim - 1, -1, -1))` to reverse the dimensions of a tensor. (Triggered internally at ..\\aten\\src\\ATen\\native\\TensorShape.cpp:3618.)\n",
      "  W = Q.T @ beta\n"
     ]
    }
   ],
   "source": [
    "## W\n",
    "\n",
    "torch.manual_seed(42)\n",
    "\n",
    "# Generate a 43x1 matrix with random values from a uniform distribution\n",
    "beta = torch.rand(43, 1)\n",
    "\n",
    "W = Q.T @ beta"
   ]
  },
  {
   "cell_type": "code",
   "execution_count": 66,
   "id": "110c3765",
   "metadata": {},
   "outputs": [
    {
     "data": {
      "text/plain": [
       "torch.Size([1, 1438, 1])"
      ]
     },
     "execution_count": 66,
     "metadata": {},
     "output_type": "execute_result"
    }
   ],
   "source": [
    "W.shape"
   ]
  },
  {
   "cell_type": "code",
   "execution_count": 98,
   "id": "25df942b",
   "metadata": {},
   "outputs": [],
   "source": [
    "def P_tensor(I1,I2,I3,W,F):\n",
    "    \n",
    "    d1 = computeStrainInvariantDerivatives(F,1,secondDerivative=False)\n",
    "    d2 = computeStrainInvariantDerivatives(F,2,secondDerivative=False)\n",
    "    d3 = computeStrainInvariantDerivatives(F,3,secondDerivative=False)\n",
    "    \n",
    "    P = (d1+d2+d3)\n",
    "    return P\n",
    "    "
   ]
  },
  {
   "cell_type": "code",
   "execution_count": 99,
   "id": "95c7d8fb",
   "metadata": {},
   "outputs": [],
   "source": [
    "P = P_tensor(I1,I2,I3,W,F)"
   ]
  },
  {
   "cell_type": "code",
   "execution_count": 112,
   "id": "0a4f97ff",
   "metadata": {},
   "outputs": [],
   "source": [
    "n =  torch.tensor([[0,-1],[0,1],[-1,0],[1,0]],dtype=torch.float32)"
   ]
  },
  {
   "cell_type": "code",
   "execution_count": 113,
   "id": "1c0e780b",
   "metadata": {},
   "outputs": [],
   "source": [
    "def compute_traction(n , P):\n",
    "    return P@n"
   ]
  },
  {
   "cell_type": "code",
   "execution_count": 128,
   "id": "18978d22",
   "metadata": {},
   "outputs": [
    {
     "data": {
      "text/plain": [
       "torch.Size([1438, 2])"
      ]
     },
     "execution_count": 128,
     "metadata": {},
     "output_type": "execute_result"
    }
   ],
   "source": [
    "r = compute_traction(n,P)\n",
    "r.shape"
   ]
  },
  {
   "cell_type": "code",
   "execution_count": 133,
   "id": "ca343868",
   "metadata": {},
   "outputs": [],
   "source": [
    "xx  = torch.linspace(0,1,1438) \n",
    "yy = torch.linspace(0,1,1438) \n"
   ]
  },
  {
   "cell_type": "markdown",
   "id": "b7bdded0",
   "metadata": {},
   "source": [
    "## Calculating total Reactions"
   ]
  },
  {
   "cell_type": "code",
   "execution_count": 134,
   "id": "7823cab7",
   "metadata": {},
   "outputs": [],
   "source": [
    "def Total_reaction(xx,yy,r):\n",
    "    return torch.trapz(r[:,0],xx) + torch.trapz(r[:,1],yy) \n",
    "    "
   ]
  },
  {
   "cell_type": "markdown",
   "id": "ac9a9e4b",
   "metadata": {},
   "source": [
    "## Data Gathering and Preprocessing"
   ]
  },
  {
   "cell_type": "code",
   "execution_count": 13,
   "id": "f0229047",
   "metadata": {},
   "outputs": [],
   "source": [
    "class CustomDataset_1(Dataset):\n",
    "    def __init__(self, csv_file):\n",
    "        self.data = pd.read_csv(csv_file)\n",
    "\n",
    "    def __len__(self):\n",
    "        return len(self.data)\n",
    "\n",
    "    def __getitem__(self, idx):\n",
    "        sample = self.data.iloc[idx]\n",
    "        inputs = torch.tensor([sample['x_coor'], sample['y_coor']], dtype=torch.float32)\n",
    "        target = torch.tensor([sample['u_x'], sample['u_y']], dtype=torch.float32)\n",
    "        return inputs, target"
   ]
  },
  {
   "cell_type": "code",
   "execution_count": 59,
   "id": "e8f84480",
   "metadata": {},
   "outputs": [],
   "source": [
    "dfs = []\n",
    "dfs1 = []\n",
    "reactions = []\n",
    "c = 0\n",
    "for i in range(10, 70, 10):\n",
    "    df_key = f\"df{i}\"\n",
    "    r_key = f\"r{i}\"\n",
    "    \n",
    "    dfs.append(f\"./exp_data/{i}/coordinates_and_disp.csv\") \n",
    "    dfs1.append(pd.read_csv(f\"./exp_data/{i}/coordinates_and_disp.csv\"))\n",
    "    reactions.append(pd.read_csv(f\"./exp_data/{i}/reactions.csv\"))\n"
   ]
  },
  {
   "cell_type": "code",
   "execution_count": null,
   "id": "a2052079",
   "metadata": {},
   "outputs": [],
   "source": []
  },
  {
   "cell_type": "code",
   "execution_count": 17,
   "id": "f2ef8f07",
   "metadata": {},
   "outputs": [],
   "source": [
    "# Load the dataset\n",
    "dataset_1 = CustomDataset_1(dfs[0])\n",
    "\n",
    "# Define batch size\n",
    "batch_size = len(dataset_1)\n",
    "\n",
    "# Create data loader\n",
    "train_data_loader_1 = DataLoader(dataset_1, batch_size=batch_size, shuffle=True)"
   ]
  },
  {
   "cell_type": "markdown",
   "id": "dad6e199",
   "metadata": {},
   "source": [
    "## Defining the Neural Network"
   ]
  },
  {
   "cell_type": "code",
   "execution_count": 18,
   "id": "4a7bcd59",
   "metadata": {},
   "outputs": [],
   "source": [
    "class Artificial_NN_A(nn.Module):\n",
    "    def __init__(self):\n",
    "        super(Artificial_NN_A, self).__init__()\n",
    "        self.hidden_layers = nn.Sequential(\n",
    "            nn.Linear(2, 150),\n",
    "            nn.ReLU(),\n",
    "            nn.Linear(150, 150),\n",
    "            nn.ReLU(),\n",
    "            nn.Linear(150, 2)  # Adjust output size to 2\n",
    "        )\n",
    "        \n",
    "    def forward(self, input_d):\n",
    "        hidden_outcome = self.hidden_layers(input_d)\n",
    "        return hidden_outcome  # No activation function in the final layer for regression"
   ]
  },
  {
   "cell_type": "code",
   "execution_count": null,
   "id": "ca11475d",
   "metadata": {},
   "outputs": [],
   "source": [
    "# Training"
   ]
  },
  {
   "cell_type": "code",
   "execution_count": 19,
   "id": "03d279ca",
   "metadata": {},
   "outputs": [],
   "source": [
    "def Train_Network(num_of_epochs, learning_rate, training_set):\n",
    "    \n",
    "    ANN = Artificial_NN_A()  \n",
    "\n",
    "    # choosing the cross entropy loss\n",
    "    loss_fn = nn.CrossEntropyLoss()\n",
    "\n",
    "    # choose ADAM optimizer and learning rate\n",
    "    optimizer = optim.Adam(ANN.parameters(), lr=learning_rate)\n",
    "    \n",
    "    losses = []  # List to store losses for plotting\n",
    "    \n",
    "    for epoch in range(num_of_epochs+1):\n",
    "        \n",
    "        for inputs, labels in training_set:\n",
    "            \n",
    "            optimizer.zero_grad()\n",
    "            \n",
    "            predictions = ANN(inputs)   # make predictions\n",
    "            \n",
    "            calc_loss = loss_fn(predictions, labels)  # calculate loss\n",
    "            \n",
    "            # Backprop\n",
    "            calc_loss.backward()\n",
    "            \n",
    "            # update all the parameters\n",
    "            optimizer.step()\n",
    "            \n",
    "            if epoch % 50 == 0:    \n",
    "                print(f'Epoch {epoch}, Loss: {calc_loss.item()}')\n",
    "                \n",
    "            losses.append(calc_loss.item())  # Append loss for plotting\n",
    "            \n",
    "            if epoch == 500:\n",
    "                print(f'Final_Loss: {calc_loss.item()}')\n",
    "                    \n",
    "    # Plotting loss versus epoch\n",
    "    plt.plot(range(len(losses)), losses)\n",
    "    plt.xlabel('Epoch')\n",
    "    plt.ylabel('Cross Entropy Loss')\n",
    "    plt.title('Cross Entropy Loss vs Epoch')\n",
    "    plt.show()\n",
    "    \n",
    "    return ANN  # return the model"
   ]
  },
  {
   "cell_type": "code",
   "execution_count": null,
   "id": "b55d8a1a",
   "metadata": {},
   "outputs": [],
   "source": []
  },
  {
   "cell_type": "code",
   "execution_count": 20,
   "id": "e55ac7c4",
   "metadata": {},
   "outputs": [],
   "source": [
    "def Test_Network(test_set, model):\n",
    "    correct = 0\n",
    "    total = 0\n",
    "    with torch.no_grad():\n",
    "        for inputs, labels in test_set:\n",
    "            predictions = model(inputs)\n",
    "    \n",
    "    return predictions"
   ]
  },
  {
   "cell_type": "code",
   "execution_count": null,
   "id": "ce781671",
   "metadata": {},
   "outputs": [],
   "source": []
  },
  {
   "cell_type": "code",
   "execution_count": 21,
   "id": "577e1f75",
   "metadata": {},
   "outputs": [
    {
     "name": "stdout",
     "output_type": "stream",
     "text": [
      "Epoch 0, Loss: 0.051902636885643005\n",
      "Epoch 50, Loss: 0.040606338530778885\n",
      "Epoch 100, Loss: 0.0400821752846241\n",
      "Epoch 150, Loss: 0.039936162531375885\n",
      "Epoch 200, Loss: 0.03989003598690033\n",
      "Epoch 250, Loss: 0.03986344859004021\n",
      "Epoch 300, Loss: 0.039845772087574005\n",
      "Epoch 350, Loss: 0.0398331955075264\n",
      "Epoch 400, Loss: 0.0398237518966198\n",
      "Epoch 450, Loss: 0.039816390722990036\n",
      "Epoch 500, Loss: 0.039810433983802795\n",
      "Final_Loss: 0.039810433983802795\n"
     ]
    },
    {
     "data": {
      "image/png": "[encoded data removed]",
      "text/plain": [
       "<Figure size 640x480 with 1 Axes>"
      ]
     },
     "metadata": {},
     "output_type": "display_data"
    }
   ],
   "source": [
    "trained_model_1 = Train_Network(500,0.001,train_data_loader_1)"
   ]
  },
  {
   "cell_type": "code",
   "execution_count": 24,
   "id": "e1e65604",
   "metadata": {},
   "outputs": [],
   "source": [
    "u_pred = Test_Network(train_data_loader_1, trained_model_1) "
   ]
  },
  {
   "cell_type": "code",
   "execution_count": 44,
   "id": "01698dba",
   "metadata": {},
   "outputs": [],
   "source": [
    "u_0 = torch.tensor([dfs1[0]['u_x'], dfs1[0]['u_y']], dtype=torch.float32).T"
   ]
  },
  {
   "cell_type": "code",
   "execution_count": 39,
   "id": "9f8cdc6d",
   "metadata": {},
   "outputs": [
    {
     "data": {
      "text/plain": [
       "tensor([[-1.9259e-05,  2.3097e-07],\n",
       "        [ 5.0001e-02,  1.1668e-05],\n",
       "        [ 4.9999e-02,  1.0000e-01],\n",
       "        ...,\n",
       "        [ 4.8974e-02,  6.1099e-02],\n",
       "        [ 4.7970e-02,  4.9836e-02],\n",
       "        [ 2.0346e-03,  7.3698e-02]])"
      ]
     },
     "execution_count": 39,
     "metadata": {},
     "output_type": "execute_result"
    }
   ],
   "source": [
    "f = torch.tensor([dfs1[0]['u_x_low'], dfs1[0]['u_y_low']], dtype=torch.float32).T\n",
    "f"
   ]
  },
  {
   "cell_type": "code",
   "execution_count": 42,
   "id": "7e0300c7",
   "metadata": {},
   "outputs": [],
   "source": [
    "uf_pred = u_pred+f"
   ]
  },
  {
   "cell_type": "markdown",
   "id": "8839284d",
   "metadata": {},
   "source": [
    "## Boundary and Experimental loss"
   ]
  },
  {
   "cell_type": "code",
   "execution_count": 71,
   "id": "cbb90101",
   "metadata": {},
   "outputs": [],
   "source": [
    "def J_BC(uf0_pred , u0 , ut_pred , ut):\n",
    "    val = 0\n",
    "    uf0_pred = uf0_pred.flatten()\n",
    "    u0 = u0.flatten()\n",
    "    ut_pred = ut_pred.flatten()\n",
    "    ut = ut.flatten()\n",
    "    for i in range(136):\n",
    "        val += (uf0_pred[i]-u0[i])**2 + (ut_pred[i]-ut[i])**2\n",
    "    val /= 136\n",
    "    return val.item()"
   ]
  },
  {
   "cell_type": "code",
   "execution_count": 72,
   "id": "f15f788d",
   "metadata": {},
   "outputs": [
    {
     "data": {
      "text/plain": [
       "1.3894702196121216"
      ]
     },
     "execution_count": 72,
     "metadata": {},
     "output_type": "execute_result"
    }
   ],
   "source": [
    "J_BC(uf_pred , u_0 , uf_pred , u_0)"
   ]
  },
  {
   "cell_type": "code",
   "execution_count": 73,
   "id": "55a4136b",
   "metadata": {},
   "outputs": [],
   "source": [
    "def exp_loss(ut_pred, ut):\n",
    "    ut_pred = ut_pred.flatten()\n",
    "    ut = ut.flatten()\n",
    "    val = 0\n",
    "    for i in range(137,1438,1):\n",
    "        val += (ut_pred[i]-ut[i])**2\n",
    "    val /= (1302)\n",
    "    return val.item()"
   ]
  },
  {
   "cell_type": "code",
   "execution_count": 74,
   "id": "b7019481",
   "metadata": {},
   "outputs": [
    {
     "data": {
      "text/plain": [
       "0.6810752153396606"
      ]
     },
     "execution_count": 74,
     "metadata": {},
     "output_type": "execute_result"
    }
   ],
   "source": [
    "exp_loss(uf_pred, u_0)"
   ]
  },
  {
   "cell_type": "code",
   "execution_count": null,
   "id": "a7fd6a31",
   "metadata": {},
   "outputs": [],
   "source": []
  }
 ],
 "metadata": {
  "kernelspec": {
   "display_name": "Python 3 (ipykernel)",
   "language": "python",
   "name": "python3"
  },
  "language_info": {
   "codemirror_mode": {
    "name": "ipython",
    "version": 3
   },
   "file_extension": ".py",
   "mimetype": "text/x-python",
   "name": "python",
   "nbconvert_exporter": "python",
   "pygments_lexer": "ipython3",
   "version": "3.11.5"
  }
 },
 "nbformat": 4,
 "nbformat_minor": 5
}
