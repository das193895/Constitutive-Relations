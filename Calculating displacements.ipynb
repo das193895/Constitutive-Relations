{
 "cells": [
  {
   "cell_type": "code",
   "execution_count": 1,
   "id": "6b995038",
   "metadata": {},
   "outputs": [],
   "source": [
    "## Import all the required libraries\n",
    "\n",
    "import numpy as np\n",
    "import pandas as pd\n",
    "import matplotlib.pyplot as plt\n",
    "%matplotlib inline\n",
    "import torch\n",
    "from torch import nn\n",
    "from torch.utils.data import random_split,DataLoader,Subset\n",
    "from torch.utils.data import Dataset, DataLoader\n",
    "import torch.optim as optim\n",
    "from torchvision import datasets\n",
    "from torchvision import transforms\n",
    "from torchvision.transforms import ToTensor,Normalize\n",
    "import warnings\n",
    "warnings.filterwarnings(\"ignore\")"
   ]
  },
  {
   "cell_type": "markdown",
   "id": "4531d0b0",
   "metadata": {},
   "source": [
    "## Data Gathering and Preprocessing"
   ]
  },
  {
   "cell_type": "code",
   "execution_count": null,
   "id": "307caf5b",
   "metadata": {},
   "outputs": [],
   "source": []
  },
  {
   "cell_type": "code",
   "execution_count": 2,
   "id": "4fcbbacf",
   "metadata": {},
   "outputs": [],
   "source": [
    "class CustomDataset_1(Dataset):\n",
    "    def __init__(self, csv_file):\n",
    "        self.data = pd.read_csv(csv_file)\n",
    "\n",
    "    def __len__(self):\n",
    "        return len(self.data)\n",
    "\n",
    "    def __getitem__(self, idx):\n",
    "        sample = self.data.iloc[idx]\n",
    "        inputs = torch.tensor([sample['x_coor'], sample['y_coor']], dtype=torch.float32)\n",
    "        target = torch.tensor([sample['u_x'], sample['u_y']], dtype=torch.float32)\n",
    "        return inputs, target\n"
   ]
  },
  {
   "cell_type": "code",
   "execution_count": 3,
   "id": "37a4ccc2",
   "metadata": {},
   "outputs": [],
   "source": [
    "class CustomDataset_2(Dataset):\n",
    "    def __init__(self, csv_file):\n",
    "        self.data = pd.read_csv(csv_file)\n",
    "\n",
    "    def __len__(self):\n",
    "        return len(self.data)\n",
    "\n",
    "    def __getitem__(self, idx):\n",
    "        sample = self.data.iloc[idx]\n",
    "        inputs = torch.tensor([sample['x_coor'], sample['y_coor']], dtype=torch.float32)\n",
    "        target = torch.tensor([sample['u_x_low'], sample['u_y_low']], dtype=torch.float32)\n",
    "        return inputs, target\n"
   ]
  },
  {
   "cell_type": "code",
   "execution_count": 4,
   "id": "9e89f059",
   "metadata": {},
   "outputs": [],
   "source": [
    "class CustomDataset_3(Dataset):\n",
    "    def __init__(self, csv_file):\n",
    "        self.data = pd.read_csv(csv_file)\n",
    "\n",
    "    def __len__(self):\n",
    "        return len(self.data)\n",
    "\n",
    "    def __getitem__(self, idx):\n",
    "        sample = self.data.iloc[idx]\n",
    "        inputs = torch.tensor([sample['x_coor'], sample['y_coor']], dtype=torch.float32)\n",
    "        target = torch.tensor([sample['u_x_high'], sample['u_y_high']], dtype=torch.float32)\n",
    "        return inputs, target\n"
   ]
  },
  {
   "cell_type": "code",
   "execution_count": 5,
   "id": "870ff466",
   "metadata": {},
   "outputs": [],
   "source": [
    "# Load the dataset\n",
    "dataset_1 = CustomDataset_1(\"coordinates_and_disp_40.csv\")\n",
    "dataset_2 = CustomDataset_2(\"coordinates_and_disp_40.csv\")\n",
    "dataset_3 = CustomDataset_3(\"coordinates_and_disp_40.csv\")\n",
    "\n",
    "# Define batch size\n",
    "batch_size = len(dataset_1)\n",
    "\n",
    "# Create data loader\n",
    "train_data_loader_1 = DataLoader(dataset_1, batch_size=batch_size, shuffle=True)\n",
    "train_data_loader_2 = DataLoader(dataset_2, batch_size=batch_size, shuffle=True)\n",
    "train_data_loader_3 = DataLoader(dataset_3, batch_size=batch_size, shuffle=True)"
   ]
  },
  {
   "cell_type": "code",
   "execution_count": null,
   "id": "4084f714",
   "metadata": {},
   "outputs": [],
   "source": []
  },
  {
   "cell_type": "markdown",
   "id": "4d63a73d",
   "metadata": {},
   "source": [
    "## Forming Networks"
   ]
  },
  {
   "cell_type": "code",
   "execution_count": 6,
   "id": "617be5e3",
   "metadata": {},
   "outputs": [],
   "source": [
    "class Artificial_NN_A(nn.Module):\n",
    "    def __init__(self):\n",
    "        super(Artificial_NN_A, self).__init__()\n",
    "        self.hidden_layers = nn.Sequential(\n",
    "            nn.Linear(2, 150),\n",
    "            nn.ReLU(),\n",
    "            nn.Linear(150, 150),\n",
    "            nn.ReLU(),\n",
    "            nn.Linear(150, 2)  # Adjust output size to 2\n",
    "        )\n",
    "        \n",
    "    def forward(self, input_d):\n",
    "        hidden_outcome = self.hidden_layers(input_d)\n",
    "        return hidden_outcome  # No activation function in the final layer for regression"
   ]
  },
  {
   "cell_type": "code",
   "execution_count": null,
   "id": "445f2674",
   "metadata": {},
   "outputs": [],
   "source": []
  },
  {
   "cell_type": "code",
   "execution_count": 7,
   "id": "ff2d0908",
   "metadata": {},
   "outputs": [],
   "source": [
    "def Train_Network(num_of_epochs, learning_rate, training_set):\n",
    "    \n",
    "    ANN = Artificial_NN_A()  \n",
    "\n",
    "    # choosing the cross entropy loss\n",
    "    loss_fn = nn.CrossEntropyLoss()\n",
    "\n",
    "    # choose ADAM optimizer and learning rate\n",
    "    optimizer = optim.Adam(ANN.parameters(), lr=learning_rate)\n",
    "    \n",
    "    losses = []  # List to store losses for plotting\n",
    "    \n",
    "    for epoch in range(num_of_epochs+1):\n",
    "        \n",
    "        for inputs, labels in training_set:\n",
    "            \n",
    "            optimizer.zero_grad()\n",
    "            \n",
    "            predictions = ANN(inputs)   # make predictions\n",
    "            \n",
    "            calc_loss = loss_fn(predictions, labels)  # calculate loss\n",
    "            \n",
    "            # Backprop\n",
    "            calc_loss.backward()\n",
    "            \n",
    "            # update all the parameters\n",
    "            optimizer.step()\n",
    "            \n",
    "            if epoch % 50 == 0:    \n",
    "                print(f'Epoch {epoch}, Loss: {calc_loss.item()}')\n",
    "                \n",
    "            losses.append(calc_loss.item())  # Append loss for plotting\n",
    "            \n",
    "            if epoch == 500:\n",
    "                print(f'Final_Loss: {calc_loss.item()}')\n",
    "                    \n",
    "    # Plotting loss versus epoch\n",
    "    plt.plot(range(len(losses)), losses)\n",
    "    plt.xlabel('Epoch')\n",
    "    plt.ylabel('Cross Entropy Loss')\n",
    "    plt.title('Cross Entropy Loss vs Epoch')\n",
    "    plt.show()\n",
    "    \n",
    "    return ANN  # return the model"
   ]
  },
  {
   "cell_type": "code",
   "execution_count": null,
   "id": "c84d96a3",
   "metadata": {},
   "outputs": [],
   "source": []
  },
  {
   "cell_type": "code",
   "execution_count": 13,
   "id": "54027088",
   "metadata": {},
   "outputs": [],
   "source": [
    "def Test_Network(test_set, model):\n",
    "    correct = 0\n",
    "    total = 0\n",
    "    with torch.no_grad():\n",
    "        for inputs, labels in test_set:\n",
    "            predictions = model(inputs)\n",
    "    \n",
    "    return predictions"
   ]
  },
  {
   "cell_type": "code",
   "execution_count": null,
   "id": "c89743c2",
   "metadata": {},
   "outputs": [],
   "source": []
  },
  {
   "cell_type": "code",
   "execution_count": 9,
   "id": "395362ab",
   "metadata": {},
   "outputs": [
    {
     "name": "stdout",
     "output_type": "stream",
     "text": [
      "Epoch 0, Loss: 0.20363499224185944\n",
      "Epoch 50, Loss: 0.16289106011390686\n",
      "Epoch 100, Loss: 0.16095906496047974\n",
      "Epoch 150, Loss: 0.15994471311569214\n",
      "Epoch 200, Loss: 0.15960723161697388\n",
      "Epoch 250, Loss: 0.15946365892887115\n",
      "Epoch 300, Loss: 0.15938369929790497\n",
      "Epoch 350, Loss: 0.15933135151863098\n",
      "Epoch 400, Loss: 0.15929491817951202\n",
      "Epoch 450, Loss: 0.15926656126976013\n",
      "Epoch 500, Loss: 0.1592441350221634\n",
      "Final_Loss: 0.1592441350221634\n"
     ]
    },
    {
     "data": {
      "image/png": "[encoded data removed]",
      "text/plain": [
       "<Figure size 640x480 with 1 Axes>"
      ]
     },
     "metadata": {},
     "output_type": "display_data"
    }
   ],
   "source": [
    "trained_model_1 = Train_Network(500,0.001,train_data_loader_1)"
   ]
  },
  {
   "cell_type": "code",
   "execution_count": 14,
   "id": "486ab647",
   "metadata": {},
   "outputs": [
    {
     "data": {
      "text/plain": [
       "tensor([[-0.5819,  0.4479],\n",
       "        [-0.5474,  0.4324],\n",
       "        [-0.8526,  0.6875],\n",
       "        ...,\n",
       "        [ 0.7669, -0.8144],\n",
       "        [-0.5682,  0.4263],\n",
       "        [ 0.7217, -0.7621]])"
      ]
     },
     "execution_count": 14,
     "metadata": {},
     "output_type": "execute_result"
    }
   ],
   "source": [
    "u_pred = Test_Network(train_data_loader_1, trained_model_1) + torch.tensor([sample['u_x_low'], sample['u_y_low']], dtype=torch.float32)"
   ]
  },
  {
   "cell_type": "code",
   "execution_count": null,
   "id": "893c1a05",
   "metadata": {},
   "outputs": [],
   "source": []
  },
  {
   "cell_type": "code",
   "execution_count": null,
   "id": "01fbebaf",
   "metadata": {},
   "outputs": [],
   "source": []
  }
 ],
 "metadata": {
  "kernelspec": {
   "display_name": "Python 3 (ipykernel)",
   "language": "python",
   "name": "python3"
  },
  "language_info": {
   "codemirror_mode": {
    "name": "ipython",
    "version": 3
   },
   "file_extension": ".py",
   "mimetype": "text/x-python",
   "name": "python",
   "nbconvert_exporter": "python",
   "pygments_lexer": "ipython3",
   "version": "3.11.5"
  }
 },
 "nbformat": 4,
 "nbformat_minor": 5
}
